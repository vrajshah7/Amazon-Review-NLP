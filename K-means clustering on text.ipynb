{
 "cells": [
  {
   "cell_type": "markdown",
   "metadata": {},
   "source": [
    "## Practical 7 - Implementation of K-means Clustering algorithm on text."
   ]
  },
  {
   "cell_type": "code",
   "execution_count": 3,
   "metadata": {},
   "outputs": [],
   "source": [
    "document = [\"This is the most beautiful place in the world.\", \n",
    "\"This man has more skills to show in cricket than any other game.\", \"Hi there! how was your ladakh trip last month?\", \n",
    "\"There was a player who had scored 200+ runs in single cricket innings in his career.\", \n",
    "\"I have got the opportunity to travel to Paris next year for my internship.\", \n",
    "\"May be he is better than you in batting but you are much better than him in bowling.\", \n",
    "\"That was really a great day for me when I was there at Lavasa for the whole night.\", \n",
    "\"That’s exactly I wanted to become, a highest ratting batsmen ever with top scores.\", \n",
    "\"Does it really matter wether you go to Thailand or Goa, its just you have spend your holidays.\", \n",
    "\"Why don’t you go to Switzerland next year for your 25th Wedding anniversary?\", \n",
    "\"Travel is fatal to prejudice, bigotry, and narrow mindedness., and many of our people need it sorely on these accounts.\", \n",
    "\"Stop worrying about the potholes in the road and enjoy the journey.\", \n",
    "\"No cricket team in the world depends on one or two players. The team always plays to win.\", \n",
    "\"Cricket is a team game. If you want fame for yourself, go play an individual game.\", \n",
    "\"Because in the end, you won’t remember the time you spent working in the office or mowing your lawn. Climb that goddamn mountain.\", \n",
    "\"Isn’t cricket supposed to be a team sport? I feel people should decide first whether cricket is a team game or an individual sport.\"]"
   ]
  },
  {
   "cell_type": "code",
   "execution_count": 4,
   "metadata": {},
   "outputs": [],
   "source": [
    "from sklearn.feature_extraction.text import TfidfVectorizer\n",
    "from sklearn.cluster import KMeans\n",
    "import numpy as np\n",
    "import pandas as pd"
   ]
  },
  {
   "cell_type": "code",
   "execution_count": 5,
   "metadata": {},
   "outputs": [],
   "source": [
    "# Usinf tf-idf to fit and transform the doc\n",
    "vectorizer = TfidfVectorizer(stop_words='english')\n",
    "X = vectorizer.fit_transform(document)"
   ]
  },
  {
   "cell_type": "code",
   "execution_count": 6,
   "metadata": {},
   "outputs": [
    {
     "data": {
      "text/plain": [
       "KMeans(algorithm='auto', copy_x=True, init='k-means++', max_iter=100,\n",
       "       n_clusters=2, n_init=1, n_jobs=None, precompute_distances='auto',\n",
       "       random_state=None, tol=0.0001, verbose=0)"
      ]
     },
     "execution_count": 6,
     "metadata": {},
     "output_type": "execute_result"
    }
   ],
   "source": [
    "true_k = 2\n",
    "model = KMeans(n_clusters=true_k, init='k-means++', max_iter=100, n_init=1)\n",
    "model.fit(X)"
   ]
  },
  {
   "cell_type": "code",
   "execution_count": 11,
   "metadata": {},
   "outputs": [
    {
     "name": "stdout",
     "output_type": "stream",
     "text": [
      "o_c :  [[ 7 91  6 54 89 44 81 38 29 49 39 28 13 27 52 51 34  3  1 84 76 17 30 83\n",
      "  61 20 67  4  9  5 62 80 11 40 46 26 50 18 45 63 88 87 72 79 75 23 22 21\n",
      "  19 73 74 16 15 14 53 12 25 77 10 78  8 82 85 86  2 24 71 55 60 56 57 48\n",
      "  47 58 90 59 43 42 41 64 70 37 36 35 65 33 32 31 66 68 69  0]\n",
      " [12 77 24 69 41 32 73 53 19 90 36 74 64 59 82 21 55 68 56 10 33 65 66  0\n",
      "  15 57 58 86 25 78 42 85 37 31 71 16 22  2 43 70 48 47 60  8 89 62 80 14\n",
      "  23 75 35  1 11 26 13 20  3  4  7  6 18  5 17  9 91 27 54 88 87 84 83 81\n",
      "  79 76 72 67 63 61 52 28 51 50 49 46 44 40 39 38 34 30 29 45]]\n",
      "terms :  ['200', '25th', 'accounts', 'anniversary', 'batsmen', 'batting', 'beautiful', 'better', 'bigotry', 'bowling', 'career', 'climb', 'cricket', 'day', 'decide', 'depends', 'does', 'don', 'end', 'enjoy', 'exactly', 'fame', 'fatal', 'feel', 'game', 'goa', 'goddamn', 'got', 'great', 'hi', 'highest', 'holidays', 'individual', 'innings', 'internship', 'isn', 'journey', 'just', 'ladakh', 'lavasa', 'lawn', 'man', 'matter', 'mindedness', 'month', 'mountain', 'mowing', 'narrow', 'need', 'night', 'office', 'opportunity', 'paris', 'people', 'place', 'play', 'player', 'players', 'plays', 'potholes', 'prejudice', 'ratting', 'really', 'remember', 'road', 'runs', 'scored', 'scores', 'single', 'skills', 'sorely', 'spend', 'spent', 'sport', 'stop', 'supposed', 'switzerland', 'team', 'thailand', 'time', 'travel', 'trip', 'want', 'wanted', 'wedding', 'wether', 'win', 'won', 'working', 'world', 'worrying', 'year']\n"
     ]
    }
   ],
   "source": [
    "order_centroids = model.cluster_centers_.argsort()[:, ::-1]\n",
    "terms = vectorizer.get_feature_names()\n",
    "\n",
    "print('o_c : ',order_centroids)\n",
    "\n",
    "print('terms : ',terms)"
   ]
  },
  {
   "cell_type": "code",
   "execution_count": 16,
   "metadata": {},
   "outputs": [
    {
     "name": "stdout",
     "output_type": "stream",
     "text": [
      "Cluster 0:\n",
      "better\n",
      "year\n",
      "beautiful\n",
      "place\n",
      "world\n",
      "month\n",
      "trip\n",
      "ladakh\n",
      "hi\n",
      "night\n",
      "Cluster 1:\n",
      "cricket\n",
      "team\n",
      "game\n",
      "skills\n",
      "man\n",
      "individual\n",
      "sport\n",
      "people\n",
      "enjoy\n",
      "worrying\n"
     ]
    }
   ],
   "source": [
    "for i in range(true_k):\n",
    "    print(\"Cluster %d:\" % i)\n",
    "    for ind in order_centroids[i, :10]:\n",
    "        print(\"%s\" % terms[ind])"
   ]
  },
  {
   "cell_type": "code",
   "execution_count": 18,
   "metadata": {},
   "outputs": [
    {
     "name": "stdout",
     "output_type": "stream",
     "text": [
      "Predicted cluster: [1]\n"
     ]
    }
   ],
   "source": [
    "X = vectorizer.transform(['Nothing is easy in cricket. Maybe when you watch it on TV, it looks easy. But it is not. You have to use your brain and time the ball.'])\n",
    "predicted = model.predict(X)\n",
    "print('Predicted cluster:', predicted)"
   ]
  },
  {
   "cell_type": "code",
   "execution_count": null,
   "metadata": {},
   "outputs": [],
   "source": []
  }
 ],
 "metadata": {
  "kernelspec": {
   "display_name": "Python 3",
   "language": "python",
   "name": "python3"
  },
  "language_info": {
   "codemirror_mode": {
    "name": "ipython",
    "version": 3
   },
   "file_extension": ".py",
   "mimetype": "text/x-python",
   "name": "python",
   "nbconvert_exporter": "python",
   "pygments_lexer": "ipython3",
   "version": "3.6.8"
  }
 },
 "nbformat": 4,
 "nbformat_minor": 2
}
